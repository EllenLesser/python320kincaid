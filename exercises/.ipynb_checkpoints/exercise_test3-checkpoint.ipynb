{
 "cells": [
  {
   "cell_type": "code",
   "execution_count": 2,
   "metadata": {
    "collapsed": true
   },
   "outputs": [],
   "source": [
    "sample_rate, bird_signal_int = scipy.io.wavfile.read(\"birds001.wav\")\n",
    "bird_signal_float = np.array(bird_signal_int,dtype=float)\n",
    "\n",
    "\n",
    "sample_rate_sines = 1000\n",
    "t_sines = np.arange(0,10,1/sample_rate_test)\n",
    "y_sines = 3*np.sin(2*np.pi*t_test)+ 0.5*np.sin(2*np.pi* 3.5*t_test)\n"
   ]
  },
  {
   "cell_type": "code",
   "execution_count": null,
   "metadata": {
    "collapsed": true
   },
   "outputs": [],
   "source": []
  }
 ],
 "metadata": {
  "kernelspec": {
   "display_name": "Python 3",
   "language": "python",
   "name": "python3"
  },
  "language_info": {
   "codemirror_mode": {
    "name": "ipython",
    "version": 3
   },
   "file_extension": ".py",
   "mimetype": "text/x-python",
   "name": "python",
   "nbconvert_exporter": "python",
   "pygments_lexer": "ipython3",
   "version": "3.6.1"
  }
 },
 "nbformat": 4,
 "nbformat_minor": 2
}
