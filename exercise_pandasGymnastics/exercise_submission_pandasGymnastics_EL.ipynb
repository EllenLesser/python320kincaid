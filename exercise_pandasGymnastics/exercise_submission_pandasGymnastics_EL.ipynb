{
 "cells": [
  {
   "cell_type": "code",
   "execution_count": 3,
   "metadata": {},
   "outputs": [],
   "source": [
    "import numpy as np\n",
    "import matplotlib.pyplot as plt\n",
    "import pandas as pd \n",
    "\n",
    "%matplotlib inline"
   ]
  },
  {
   "cell_type": "code",
   "execution_count": 4,
   "metadata": {
    "scrolled": false
   },
   "outputs": [
    {
     "name": "stdout",
     "output_type": "stream",
     "text": [
      "['YearStart', 'YearEnd', 'LocationAbbr', 'LocationDesc', 'Datasource', 'Class', 'Topic', 'Question', 'Data_Value_Unit', 'Data_Value_Type', 'Data_Value', 'Data_Value_Alt', 'Data_Value_Footnote_Symbol', 'Data_Value_Footnote', 'Low_Confidence_Limit', 'High_Confidence_Limit ', 'Sample_Size', 'Total', 'Age(years)', 'Education', 'Gender', 'Income', 'Race/Ethnicity', 'GeoLocation', 'ClassID', 'TopicID', 'QuestionID', 'DataValueTypeID', 'LocationID', 'StratificationCategory1', 'Stratification1', 'StratificationCategoryId1', 'StratificationID1']\n",
      "\n",
      "---------------------------------------------\n",
      "\n",
      "Is there any column with all unique values? False\n",
      "\n",
      "---------------------------------------------\n",
      "\n",
      "Physical Activity - Behavior        26628\n",
      "Obesity / Weight Status             17920\n",
      "Fruits and Vegetables - Behavior     8844\n",
      "Name: Topic, dtype: int64\n",
      "\n",
      "---------------------------------------------\n",
      "\n",
      "Unique questions that contain the word fruit:\n",
      "['Percent of adults who report consuming fruit less than one time daily']\n",
      "\n",
      "---------------------------------------------\n",
      "\n",
      "Number of surveys in WA about fruits: 84\n",
      "Some college or technical school    3\n",
      "Less than high school               3\n",
      "College graduate                    3\n",
      "High school graduate                3\n",
      "Name: Education, dtype: int64\n"
     ]
    },
    {
     "data": {
      "image/png": "[encoded data removed]",
      "text/plain": [
       "<Figure size 360x360 with 1 Axes>"
      ]
     },
     "metadata": {
      "needs_background": "light"
     },
     "output_type": "display_data"
    }
   ],
   "source": [
    "df = pd.read_csv('./data/Nutrition__Physical_Activity__and_Obesity_-_Behavioral_Risk_Factor_Surveillance_System.csv')\n",
    "\n",
    "# 2.1 What are the column names?\n",
    "print(df.columns.tolist())\n",
    "print('\\n---------------------------------------------\\n')\n",
    "\n",
    "# 2.2 Is there an explicit index?\n",
    "dupl = [np.sum(df[col].duplicated().tolist()) == 0 for col in df.columns]\n",
    "print('Is there any column with all unique values?', np.sum(dupl) > 0)\n",
    "print('\\n---------------------------------------------\\n')\n",
    "\n",
    "# 2.3 What are all the unique topics in the topics column?\n",
    "print(df['Topic'].value_counts())\n",
    "print('\\n---------------------------------------------\\n')\n",
    "\n",
    "# 2.4 For surveys on Fruits, what are the unique questions?\n",
    "fruit = df[df['Question'].str.upper().str.contains('FRUIT')] # upper to ignore spelling case\n",
    "print('Unique questions that contain the word fruit:')\n",
    "print(fruit['Question'].unique())\n",
    "print('\\n---------------------------------------------\\n')\n",
    "\n",
    "# 2.5 How many surveys have there been on fruit consumption in the state of Washington?\n",
    "fruitWA = fruit[fruit['LocationAbbr'] == 'WA']\n",
    "print('Number of surveys in WA about fruits:', len(fruitWA))\n",
    "\n",
    "# Find out how many of the college graduates in the state of Washington consume fruits \n",
    "# less than 1 time a day\n",
    "print(fruitWA['Education'].value_counts()) # \"College graduate\"\n",
    "c_fruitWA = fruitWA[fruitWA['Education'] == 'College graduate']\n",
    "\n",
    "fig = plt.figure(figsize=(5, 5))\n",
    "ax = fig.add_subplot(111)\n",
    "ax.errorbar(c_fruitWA['YearStart'], c_fruitWA['Data_Value'], \n",
    "            yerr = [abs(c_fruitWA['Low_Confidence_Limit']-c_fruitWA['Data_Value']), \n",
    "                    abs(c_fruitWA['High_Confidence_Limit ']-c_fruitWA['Data_Value'])])\n",
    "plt.show()\n",
    "plt.clf()\n",
    "plt.close('all')"
   ]
  },
  {
   "cell_type": "code",
   "execution_count": 5,
   "metadata": {},
   "outputs": [
    {
     "name": "stdout",
     "output_type": "stream",
     "text": [
      "['MS', 'LA', 'WV', 'AL', 'MI', 'OK', 'AR', 'IN', 'SC', 'TX', 'KY', 'MO', 'OH', 'KS', 'VA', 'TN', 'NC', 'IA', 'DE', 'PA', 'NE', 'MD', 'SD', 'GA', 'ND', 'ME', 'WI', 'AK', 'IL', 'ID', 'OR', 'FL', 'WA', 'NM', 'NH', 'MN', 'RI', 'VT', 'AZ', 'WY', 'MT', 'NV', 'CT', 'NY', 'UT', 'CA', 'NJ', 'DC', 'MA', 'HI', 'CO']\n"
     ]
    }
   ],
   "source": [
    "# 3.1 create a smaller dataFrame that only contains some studies\n",
    "df_small = df[(df['YearStart'] == 2011) & (df['StratificationID1'] == 'OVERALL') & \\\n",
    "              (df['QuestionID'] == 'Q036') & (df['LocationAbbr'] != 'US')]\n",
    "\n",
    "# 3.2 Sort the states for percentage of obese people (just to verify your later results)\n",
    "print(df_small.sort_values(by='Data_Value', ascending=False)['LocationAbbr'].tolist())"
   ]
  },
  {
   "cell_type": "code",
   "execution_count": 6,
   "metadata": {},
   "outputs": [
    {
     "ename": "ModuleNotFoundError",
     "evalue": "No module named 'chorogrid'",
     "output_type": "error",
     "traceback": [
      "\u001b[1;31m---------------------------------------------------------------------------\u001b[0m",
      "\u001b[1;31mModuleNotFoundError\u001b[0m                       Traceback (most recent call last)",
      "\u001b[1;32m<ipython-input-6-62f8a770a149>\u001b[0m in \u001b[0;36m<module>\u001b[1;34m\u001b[0m\n\u001b[0;32m      1\u001b[0m \u001b[1;31m# 3.3 Install Chorogrid\u001b[0m\u001b[1;33m\u001b[0m\u001b[1;33m\u001b[0m\u001b[1;33m\u001b[0m\u001b[0m\n\u001b[1;32m----> 2\u001b[1;33m \u001b[1;32mfrom\u001b[0m \u001b[0mchorogrid\u001b[0m \u001b[1;32mimport\u001b[0m \u001b[0mColorbin\u001b[0m\u001b[1;33m,\u001b[0m \u001b[0mChorogrid\u001b[0m\u001b[1;33m\u001b[0m\u001b[1;33m\u001b[0m\u001b[0m\n\u001b[0m\u001b[0;32m      3\u001b[0m \u001b[1;33m\u001b[0m\u001b[0m\n\u001b[0;32m      4\u001b[0m \u001b[1;31m# (3.4 optional) Come up with your own colorscheme on colorbrewer\u001b[0m\u001b[1;33m\u001b[0m\u001b[1;33m\u001b[0m\u001b[1;33m\u001b[0m\u001b[0m\n\u001b[0;32m      5\u001b[0m \u001b[0mmycolors\u001b[0m \u001b[1;33m=\u001b[0m \u001b[1;33m[\u001b[0m\u001b[1;34m\"#FEEBE2\"\u001b[0m\u001b[1;33m,\u001b[0m \u001b[1;34m\"#FBB4B9\"\u001b[0m\u001b[1;33m,\u001b[0m \u001b[1;34m\"#F768A1\"\u001b[0m\u001b[1;33m,\u001b[0m \u001b[1;34m\"#C51B8A\"\u001b[0m\u001b[1;33m,\u001b[0m \u001b[1;34m\"#7A0177\"\u001b[0m\u001b[1;33m]\u001b[0m\u001b[1;33m\u001b[0m\u001b[1;33m\u001b[0m\u001b[0m\n",
      "\u001b[1;31mModuleNotFoundError\u001b[0m: No module named 'chorogrid'"
     ]
    }
   ],
   "source": [
    "# 3.3 Install Chorogrid\n",
    "from chorogrid import Colorbin, Chorogrid\n",
    "\n",
    "# (3.4 optional) Come up with your own colorscheme on colorbrewer\n",
    "mycolors = [\"#FEEBE2\", \"#FBB4B9\", \"#F768A1\", \"#C51B8A\", \"#7A0177\"]\n",
    "\n",
    "# 3.5 Plot the choropleth using Chorogrid\n",
    "states = df_small['LocationAbbr'].tolist()\n",
    "mybin = Colorbin(df_small['Data_Value'], mycolors, proportional=True, decimals=None)\n",
    "mybin.set_decimals(1)\n",
    "mybin.recalc(fenceposts=True)\n",
    "mybin.calc_complements(0.5, '#e0e0e0', '#101010')\n",
    "colors_by_state = mybin.colors_out\n",
    "font_colors_by_state = mybin.complements\n",
    "legend_colors = mybin.colors_in\n",
    "legend_labels = mybin.labels\n",
    "\n",
    "cg = Chorogrid('./data/usa_states.csv', states, colors_by_state)\n",
    "cg.set_legend(legend_colors, legend_labels, title='% of population')\n",
    "cg.draw_squares(spacing_dict={'margin_right': 150}, font_colors=font_colors_by_state)\n",
    "cg.done(show=True)"
   ]
  },
  {
   "cell_type": "code",
   "execution_count": null,
   "metadata": {},
   "outputs": [],
   "source": []
  }
 ],
 "metadata": {
  "kernelspec": {
   "display_name": "Python 3",
   "language": "python",
   "name": "python3"
  },
  "language_info": {
   "codemirror_mode": {
    "name": "ipython",
    "version": 3
   },
   "file_extension": ".py",
   "mimetype": "text/x-python",
   "name": "python",
   "nbconvert_exporter": "python",
   "pygments_lexer": "ipython3",
   "version": "3.7.1"
  }
 },
 "nbformat": 4,
 "nbformat_minor": 2
}
