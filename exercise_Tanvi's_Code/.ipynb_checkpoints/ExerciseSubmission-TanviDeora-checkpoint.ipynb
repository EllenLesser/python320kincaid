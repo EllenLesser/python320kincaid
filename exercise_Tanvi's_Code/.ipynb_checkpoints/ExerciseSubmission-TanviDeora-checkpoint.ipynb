{
 "cells": [
  {
   "cell_type": "code",
   "execution_count": 1,
   "metadata": {},
   "outputs": [],
   "source": [
    "import pandas as pd\n",
    "import os\n",
    "import numpy as np\n",
    "import matplotlib.pyplot as plt\n",
    "from scipy import signal"
   ]
  },
  {
   "cell_type": "code",
   "execution_count": 2,
   "metadata": {},
   "outputs": [],
   "source": [
    "# calculate transition from pixelNumThreshold\n",
    "\n",
    "def transition(NumPixel):\n",
    "    NumPixel = np.asarray(NumPixel)\n",
    "    PixelNumThreshold = 500\n",
    "    motion = (NumPixel > PixelNumThreshold)\n",
    "    FrameIdx = np.array(range(len(motion)-1))\n",
    "    mothIN = FrameIdx[motion[1:] & ~motion[:-1]]+1\n",
    "    mothOUT = FrameIdx[~motion[1:] & motion[:-1]]+1\n",
    "    return(mothIN, mothOUT)\n",
    "\n",
    "\n",
    "def smooth(Pixels):\n",
    "    win_gauss = signal.gaussian(10,3)\n",
    "    smooth_Pixels = signal.convolve(Pixels, win_gauss, mode='same', method = 'direct') / win_gauss.sum()\n",
    "    return(smooth_Pixels)"
   ]
  },
  {
   "cell_type": "code",
   "execution_count": 4,
   "metadata": {},
   "outputs": [
    {
     "data": {
      "text/plain": [
       "2"
      ]
     },
     "execution_count": 4,
     "metadata": {},
     "output_type": "execute_result"
    }
   ],
   "source": [
    "path = 'G:\\My Drive\\Python320Kincaid-LargeDatasets\\\\'\n",
    "data_files = [(os.path.join(root, name), name[0:-4])\n",
    "               for root, dirs, files in os.walk(path)\n",
    "               for name in files\n",
    "               if name.endswith('.csv')]\n",
    "len(data_files)"
   ]
  },
  {
   "cell_type": "code",
   "execution_count": 16,
   "metadata": {},
   "outputs": [
    {
     "data": {
      "image/png": "[encoded data removed]",
      "text/plain": [
       "<Figure size 720x432 with 1 Axes>"
      ]
     },
     "metadata": {},
     "output_type": "display_data"
    }
   ],
   "source": [
    "# %%timeit\n",
    "\n",
    "#2 made fig object outside the for loop and cleared axes at the end of the loop\n",
    "fig, ax = plt.subplots(1,1, figsize = (10,6))\n",
    "\n",
    "for video in data_files:\n",
    "    # read the details of the file and load the csv data\n",
    "    filename = video[1]\n",
    "#     print('working on ' + filename)\n",
    "\n",
    "    #1 used usecols here to import only specific columns - as a result df went from ~225MB to 1.3MB\n",
    "    df = pd.read_csv(video[0] , usecols = ['NumPixel'])\n",
    "    \n",
    "    PixelCount = np.asarray(df.NumPixel)\n",
    "    Smoothened_PixelCount = smooth(PixelCount) # smoothen the Numpixels across frames\n",
    "    In,Out = transition(Smoothened_PixelCount) # pull out the moth going in and out of the frame\n",
    "    \n",
    "    if In.size > Out.size:\n",
    "        In = In[:Out.size]\n",
    "    elif Out.size > In.size: \n",
    "        Out = Out[1:]\n",
    "    \n",
    "    FramesMothInView = Out - In\n",
    "    \n",
    "    #save the data in a new dataframe\n",
    "    d = {'MothIN': In, 'MothOut': Out, \"FramesInView\" : FramesMothInView}\n",
    "    new_df = pd.DataFrame(data=d)\n",
    "    cols = new_df.columns.tolist()\n",
    "    cols[0], cols[1], cols[2] = cols[1], cols[2], cols[0]\n",
    "    new_df = new_df.reindex(columns= cols)\n",
    "\n",
    "    if FramesMothInView.size==0:\n",
    "        print(filename + \" has no moth movement\")\n",
    "    else:\n",
    "        # export figure for histogram\n",
    "        binwidth = 50\n",
    "        \n",
    "        plt.hist(FramesMothInView, bins=range(min(FramesMothInView), max(FramesMothInView) + binwidth, binwidth))\n",
    "        plt.xlabel(\"Total frames moth in view\", fontsize = 20)\n",
    "        plt.ylabel(\"Occurance of each bin\", fontsize = 20)\n",
    "        plt.cla()\n",
    "\n",
    "#         print('done with ' + filename)"
   ]
  },
  {
   "cell_type": "code",
   "execution_count": 9,
   "metadata": {},
   "outputs": [
    {
     "name": "stdout",
     "output_type": "stream",
     "text": [
      "<class 'pandas.core.frame.DataFrame'>\n",
      "RangeIndex: 166729 entries, 0 to 166728\n",
      "Data columns (total 1 columns):\n",
      "NumPixel    166729 non-null int64\n",
      "dtypes: int64(1)\n",
      "memory usage: 1.3 MB\n"
     ]
    }
   ],
   "source": [
    "df.info(memory_usage='deep')"
   ]
  },
  {
   "cell_type": "code",
   "execution_count": null,
   "metadata": {},
   "outputs": [],
   "source": [
    "#3 - usecols also reduced time to run each loop!\n",
    "# 3.49 s ± 69.7 ms per loop - loading only specific columns\n",
    "# 8.01 s ± 502 ms per loop - loading all columns of pandas"
   ]
  },
  {
   "cell_type": "code",
   "execution_count": 19,
   "metadata": {},
   "outputs": [
    {
     "name": "stdout",
     "output_type": "stream",
     "text": [
      "Variable                Type           Data/Info\n",
      "------------------------------------------------\n",
      "FramesMothInView        ndarray        78: 78 elems, type `int32`, 312 bytes\n",
      "In                      ndarray        78: 78 elems, type `int32`, 312 bytes\n",
      "Out                     ndarray        78: 78 elems, type `int32`, 312 bytes\n",
      "PixelCount              ndarray        166729: 166729 elems, type `int64`, 1333832 bytes (1.2720413208007812 Mb)\n",
      "Smoothened_PixelCount   ndarray        166729: 166729 elems, type `float64`, 1333832 bytes (1.2720413208007812 Mb)\n",
      "ax                      AxesSubplot    AxesSubplot(0.125,0.125;0.775x0.755)\n",
      "binwidth                int            50\n",
      "cols                    list           n=3\n",
      "d                       dict           n=3\n",
      "data_files              list           n=2\n",
      "df                      DataFrame              NumPixel\\n0      <...>[166729 rows x 1 columns]\n",
      "fig                     Figure         Figure(720x432)\n",
      "filename                str            c-1_m4\n",
      "new_df                  DataFrame          MothOut  FramesInView<...>\\n\\n[78 rows x 3 columns]\n",
      "np                      module         <module 'numpy' from 'C:\\<...>ges\\\\numpy\\\\__init__.py'>\n",
      "os                      module         <module 'os' from 'C:\\\\Us<...>\\\\anaconda3\\\\lib\\\\os.py'>\n",
      "path                    str            G:\\My Drive\\Python320Kincaid-LargeDatasets\\\n",
      "pd                      module         <module 'pandas' from 'C:<...>es\\\\pandas\\\\__init__.py'>\n",
      "plt                     module         <module 'matplotlib.pyplo<...>\\\\matplotlib\\\\pyplot.py'>\n",
      "signal                  module         <module 'scipy.signal' fr<...>py\\\\signal\\\\__init__.py'>\n",
      "smooth                  function       <function smooth at 0x000001ECE7813730>\n",
      "transition              function       <function transition at 0x000001ECE7813950>\n",
      "video                   tuple          n=2\n"
     ]
    }
   ],
   "source": [
    "%whos"
   ]
  },
  {
   "cell_type": "code",
   "execution_count": null,
   "metadata": {},
   "outputs": [],
   "source": []
  }
 ],
 "metadata": {
  "kernelspec": {
   "display_name": "Python 3",
   "language": "python",
   "name": "python3"
  },
  "language_info": {
   "codemirror_mode": {
    "name": "ipython",
    "version": 3
   },
   "file_extension": ".py",
   "mimetype": "text/x-python",
   "name": "python",
   "nbconvert_exporter": "python",
   "pygments_lexer": "ipython3",
   "version": "3.6.5"
  }
 },
 "nbformat": 4,
 "nbformat_minor": 2
}
