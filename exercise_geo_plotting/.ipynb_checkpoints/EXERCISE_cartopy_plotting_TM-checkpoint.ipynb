{
 "cells": [
  {
   "cell_type": "code",
   "execution_count": 2,
   "metadata": {},
   "outputs": [],
   "source": [
    "import pandas as pd\n",
    "import matplotlib.pyplot as plt\n",
    "import cartopy.crs as ccrs\n",
    "import cartopy.io.shapereader as shapereader\n",
    "import shapely.affinity as shp\n",
    "import numpy as np \n",
    "import matplotlib.ticker as mticker"
   ]
  },
  {
   "cell_type": "code",
   "execution_count": 3,
   "metadata": {},
   "outputs": [],
   "source": [
    "shapename = 'admin_1_states_provinces_lakes_shp' # specified at http://naturalearthdata.com \n",
    "states_shp = shapereader.natural_earth(resolution='110m',\n",
    "                                       category='cultural',\n",
    "                                       name=shapename)\n",
    "reader = shapereader.Reader(states_shp)\n",
    "countries = reader.records() "
   ]
  },
  {
   "cell_type": "code",
   "execution_count": 37,
   "metadata": {},
   "outputs": [],
   "source": [
    "df = pd.read_csv(\"./data/final_loc_data.csv\")\n",
    "pd.to_datetime(df.time)\n",
    "df.head() \n",
    "\n",
    "df_mean = pd.DataFrame(index=df['state'].unique(), columns=df.columns)\n",
    "for state in df['state'].unique(): \n",
    "    df_mean.loc[state,:] = df[df['state'] == state].mean()\n",
    "# print(df_mean)\n",
    "import matplotlib\n",
    "cmap = matplotlib.cm.get_cmap('bwr')\n",
    "from matplotlib import cm\n",
    "\n",
    "norm = matplotlib.colors.Normalize( vmin=df_mean['temp'].min(), vmax=df_mean['temp'].max())\n",
    "   \n",
    "# #colormap possible values = viridis, jet, spectral"
   ]
  },
  {
   "cell_type": "code",
   "execution_count": 6,
   "metadata": {},
   "outputs": [],
   "source": [
    "# some plot parameters \n",
    "facecolor = 'w'\n",
    "df2 = df.copy()  \n",
    "\n",
    "# original location: \n",
    "AKratio = 1\n",
    "HIratio = 1\n",
    "AKtrans = [0,0]\n",
    "HItrans = [0,0]  "
   ]
  },
  {
   "cell_type": "code",
   "execution_count": 49,
   "metadata": {},
   "outputs": [],
   "source": [
    "# function to move and scale a state\n",
    "def transform_state( geom, data_frame, trans_x, trans_y, scaling_factor, face_color):\n",
    "        dataFrame_out = data_frame.copy() \n",
    "        geoTrans = shp.translate( geom, trans_x, trans_y)  \n",
    "        centroid = geoTrans.centroid.coords[0]\n",
    "        geoTransScale = shp.scale( geoTrans, xfact=scaling_factor, yfact=scaling_factor, origin=centroid)\n",
    "        ax.add_geometries( geoTransScale, ccrs.PlateCarree(), facecolor=face_color, edgecolor='k')   \n",
    "        \n",
    "        dataFrame_out.loc[:,'lon'] = ((data_frame.loc[:,'lon']  - trans_x + centroid[0] )*\n",
    "                                        scaling_factor  - centroid[0]  )\n",
    "        dataFrame_out.loc[:,'lat'] = ((data_frame.loc[:,'lat']  + trans_y - centroid[1] )*\n",
    "                                        scaling_factor  + centroid[1]  ) \n",
    "        return dataFrame_out"
   ]
  },
  {
   "cell_type": "code",
   "execution_count": 62,
   "metadata": {},
   "outputs": [
    {
     "ename": "IndentationError",
     "evalue": "expected an indented block (<ipython-input-62-d55f82dc32c8>, line 31)",
     "output_type": "error",
     "traceback": [
      "\u001b[1;36m  File \u001b[1;32m\"<ipython-input-62-d55f82dc32c8>\"\u001b[1;36m, line \u001b[1;32m31\u001b[0m\n\u001b[1;33m    else:\u001b[0m\n\u001b[1;37m       ^\u001b[0m\n\u001b[1;31mIndentationError\u001b[0m\u001b[1;31m:\u001b[0m expected an indented block\n"
     ]
    }
   ],
   "source": [
    "fig = plt.figure(figsize=(16, 6))\n",
    "ax = fig.add_axes([0, 0, 1, 1], projection=ccrs.LambertConformal())  \n",
    "ax.set_extent([-160, -75, 21, 70], ccrs.Geodetic())  \n",
    "\n",
    "# if uncommented, moves Alaska and HawaII closer to the mainland\n",
    "ax.set_extent([-120, -75, 21, 50], ccrs.Geodetic())    \n",
    "AKratio = 0.3;  # scales Alaska \n",
    "HIratio = 0.7 # scales Hawai \n",
    "AKtrans = [38,-36] # moves Alaska south and east \n",
    "HItrans = [44,3] # moves Hawaii east and north \n",
    "    \n",
    "for state in shapereader.Reader(states_shp).records():   \n",
    "    try: \n",
    "        print(state.attributes['name'])\n",
    "        state_ab =  state.attributes['postal']\n",
    "        facecolor = matplotlib.cm.bwr(norm(df_mean.loc[state_ab,'temp']) ) \n",
    "#         print(facecolor)\n",
    "        if  state.attributes['name'] =='Alaska':   \n",
    "            df_AK = transform_state(state.geometry, \n",
    "                                    df.loc[df['state']=='AK'], \n",
    "                                    AKtrans[0], AKtrans[1],\n",
    "                                    AKratio,facecolor)  \n",
    "            df2.loc[df2['state']=='AK'] = df_AK\n",
    "        elif  state.attributes['name'] =='Hawaii':   \n",
    "            df_HI = transform_state(state.geometry, \n",
    "                                    df.loc[df['state']=='HI'], \n",
    "                                    HItrans[0], HItrans[1],\n",
    "                                    HIratio,facecolor)  \n",
    "            df2.loc[df2['state']=='HI'] = df_HI\n",
    "        elif  state.attributes['name'] =='Haa':  \n",
    "            \n",
    "        else:  \n",
    "            ax.add_geometries([state.geometry], ccrs.PlateCarree(),\n",
    "                          facecolor=facecolor, edgecolor='k')\n",
    "    except: \n",
    "        print(state_ab)\n",
    "        \n",
    "ax.scatter( - df2['lon'], df2['lat'], transform=ccrs.PlateCarree(), \n",
    "           c=df2['temp'], s=20, cmap='magma',zorder = 10)\n",
    " \n",
    "gl = ax.gridlines(linewidth=1, color='black', alpha=0.2, linestyle='--')\n",
    "gl.ylocator = mticker.FixedLocator(np.arange( 0,90,5))\n",
    "gl.xlocator = mticker.FixedLocator(np.arange(-220,-20,5))   "
   ]
  },
  {
   "cell_type": "code",
   "execution_count": 60,
   "metadata": {},
   "outputs": [
    {
     "name": "stdout",
     "output_type": "stream",
     "text": [
      "(0.0, 0.0, 1.0, 1.0)\n"
     ]
    }
   ],
   "source": [
    " "
   ]
  },
  {
   "cell_type": "code",
   "execution_count": null,
   "metadata": {},
   "outputs": [],
   "source": []
  },
  {
   "cell_type": "code",
   "execution_count": 54,
   "metadata": {},
   "outputs": [
    {
     "data": {
      "text/plain": [
       "(52, 10)"
      ]
     },
     "execution_count": 54,
     "metadata": {},
     "output_type": "execute_result"
    }
   ],
   "source": [
    "df_mean.shape"
   ]
  },
  {
   "cell_type": "code",
   "execution_count": null,
   "metadata": {},
   "outputs": [],
   "source": []
  },
  {
   "cell_type": "code",
   "execution_count": null,
   "metadata": {},
   "outputs": [],
   "source": []
  },
  {
   "cell_type": "code",
   "execution_count": null,
   "metadata": {},
   "outputs": [],
   "source": []
  }
 ],
 "metadata": {
  "kernelspec": {
   "display_name": "Python 3",
   "language": "python",
   "name": "python3"
  },
  "language_info": {
   "codemirror_mode": {
    "name": "ipython",
    "version": 3
   },
   "file_extension": ".py",
   "mimetype": "text/x-python",
   "name": "python",
   "nbconvert_exporter": "python",
   "pygments_lexer": "ipython3",
   "version": "3.7.1"
  }
 },
 "nbformat": 4,
 "nbformat_minor": 2
}
