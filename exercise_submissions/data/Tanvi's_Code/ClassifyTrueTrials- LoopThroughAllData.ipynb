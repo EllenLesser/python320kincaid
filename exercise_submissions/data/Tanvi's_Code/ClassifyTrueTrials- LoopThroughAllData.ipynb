{
 "cells": [
  {
   "cell_type": "code",
   "execution_count": 1,
   "metadata": {
    "collapsed": true
   },
   "outputs": [],
   "source": [
    "import pandas as pd\n",
    "import os\n",
    "import numpy as np\n",
    "import matplotlib.pyplot as plt\n",
    "from scipy import signal"
   ]
  },
  {
   "cell_type": "code",
   "execution_count": 2,
   "metadata": {
    "collapsed": true
   },
   "outputs": [],
   "source": [
    "# calculate transition from pixelNumThreshold\n",
    "\n",
    "def transition(NumPixel):\n",
    "    NumPixel = np.asarray(NumPixel)\n",
    "    PixelNumThreshold = 500\n",
    "    motion = (NumPixel > PixelNumThreshold)\n",
    "    FrameIdx = np.array(range(len(motion)-1))\n",
    "    mothIN = FrameIdx[motion[1:] & ~motion[:-1]]+1\n",
    "    mothOUT = FrameIdx[~motion[1:] & motion[:-1]]+1\n",
    "    return(mothIN, mothOUT)\n",
    "\n",
    "\n",
    "def smooth(Pixels):\n",
    "    win_gauss = signal.gaussian(10,3)\n",
    "    smooth_Pixels = signal.convolve(Pixels, win_gauss, mode='same', method = 'direct') / win_gauss.sum()\n",
    "    return(smooth_Pixels)"
   ]
  },
  {
   "cell_type": "code",
   "execution_count": 4,
   "metadata": {
    "collapsed": false
   },
   "outputs": [
    {
     "data": {
      "text/plain": [
       "2"
      ]
     },
     "execution_count": 4,
     "metadata": {},
     "output_type": "execute_result"
    }
   ],
   "source": [
    "path = '.\\\\'\n",
    "data_files = [(os.path.join(root, name), name[0:-4])\n",
    "               for root, dirs, files in os.walk(path)\n",
    "               for name in files\n",
    "               if name.endswith('.csv')]\n",
    "len(data_files)"
   ]
  },
  {
   "cell_type": "code",
   "execution_count": 9,
   "metadata": {
    "collapsed": false
   },
   "outputs": [
    {
     "name": "stdout",
     "output_type": "stream",
     "text": [
      "working on c-1_m4\n",
      "done with c-1_m4\n",
      "working on c-2_m4\n",
      "done with c-2_m4\n"
     ]
    },
    {
     "data": {
      "image/png": "[encoded data removed]",
      "text/plain": [
       "<Figure size 720x432 with 1 Axes>"
      ]
     },
     "metadata": {},
     "output_type": "display_data"
    },
    {
     "data": {
      "image/png": "[encoded data removed]",
      "text/plain": [
       "<Figure size 720x432 with 1 Axes>"
      ]
     },
     "metadata": {},
     "output_type": "display_data"
    }
   ],
   "source": [
    "for video in data_files:\n",
    "    # read the details of the file and load the csv data\n",
    "    filename = video[1]\n",
    "    print('working on ' + filename)\n",
    "#     with open('Step2_SummaryFile.txt', 'a') as log_text:\n",
    "#         log_text.write('\\n' + 'working on ' + filename + '\\n')\n",
    "    df = pd.read_csv(video[0])\n",
    "    \n",
    "    PixelCount = np.asarray(df.NumPixel)\n",
    "    Smoothened_PixelCount = smooth(PixelCount) # smoothen the Numpixels across frames\n",
    "    In,Out = transition(Smoothened_PixelCount) # pull out the moth going in and out of the frame\n",
    "    \n",
    "    if In.size > Out.size:\n",
    "        In = In[:Out.size]\n",
    "    elif Out.size > In.size: \n",
    "        Out = Out[1:]\n",
    "    \n",
    "    FramesMothInView = Out - In\n",
    "    \n",
    "    #save the data in a new dataframe\n",
    "    d = {'MothIN': In, 'MothOut': Out, \"FramesInView\" : FramesMothInView}\n",
    "    new_df = pd.DataFrame(data=d)\n",
    "    cols = new_df.columns.tolist()\n",
    "    cols[0], cols[1], cols[2] = cols[1], cols[2], cols[0]\n",
    "    new_df = new_df.reindex(columns= cols)\n",
    "\n",
    "    # save the newDf in a separte csv file\n",
    "#     outPath_data = \".\\\\\"\n",
    "#     new_df.to_csv(outPath_data + filename + '_MothInOut.csv')\n",
    "    \n",
    "    if FramesMothInView.size==0:\n",
    "        print(filename + \" has no moth movement\")\n",
    "#         with open('Step2_SummaryFile.txt', 'a') as log_text:\n",
    "#             log_text.write(filename + \" has no moth movement\" + '\\n')\n",
    "    else:\n",
    "        # export figure for histogram\n",
    "        binwidth = 50\n",
    "        fig, ax = plt.subplots(1,1, figsize = (10,6))\n",
    "        plt.hist(FramesMothInView, bins=range(min(FramesMothInView), max(FramesMothInView) + binwidth, binwidth))\n",
    "        plt.xlabel(\"Total frames moth in view\", fontsize = 20)\n",
    "        plt.ylabel(\"Occurance of each bin\", fontsize = 20)\n",
    "\n",
    "#         outPath_fig = '.\\\\'\n",
    "#         plt.savefig(outPath_fig + filename + '_histogram.png')\n",
    "\n",
    "        print('done with ' + filename)\n",
    "#         with open('Step2_SummaryFile.txt', 'a') as log_text:\n",
    "#             log_text.write('done with ' + filename + '\\n')"
   ]
  },
  {
   "cell_type": "code",
   "execution_count": null,
   "metadata": {
    "collapsed": true
   },
   "outputs": [],
   "source": []
  }
 ],
 "metadata": {
  "kernelspec": {
   "display_name": "Python 3",
   "language": "python",
   "name": "python3"
  },
  "language_info": {
   "codemirror_mode": {
    "name": "ipython",
    "version": 3
   },
   "file_extension": ".py",
   "mimetype": "text/x-python",
   "name": "python",
   "nbconvert_exporter": "python",
   "pygments_lexer": "ipython3",
   "version": "3.6.0"
  }
 },
 "nbformat": 4,
 "nbformat_minor": 2
}
