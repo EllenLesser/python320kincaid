{
 "cells": [
  {
   "cell_type": "markdown",
   "metadata": {},
   "source": [
    "### Code editing for Python club \n",
    "\n",
    "Things I changed to this code\n",
    "- I removed the transition() function and calculated mothIN events differently using Pandas.\n",
    "- I used glob instead of os to load in data files.\n",
    "- I used vectorized numpy array comprehension to apply the smooth() function to the data.\n",
    "- The original code runs perfectly fine on my PC so I'm still not really sure what the memory issue was?"
   ]
  },
  {
   "cell_type": "code",
   "execution_count": 1,
   "metadata": {},
   "outputs": [],
   "source": [
    "import pandas as pd\n",
    "import os, matplotlib\n",
    "import numpy as np\n",
    "import matplotlib.pyplot as plt\n",
    "from scipy import signal\n",
    "\n",
    "# glob lets you batch-select files (it has many complex options if needed)\n",
    "import glob \n",
    "\n",
    "# list comprehension library to split into mothIN and mothOUT\n",
    "import more_itertools as mit"
   ]
  },
  {
   "cell_type": "code",
   "execution_count": 2,
   "metadata": {},
   "outputs": [
    {
     "name": "stdout",
     "output_type": "stream",
     "text": [
      "Number of files is 2\n"
     ]
    }
   ],
   "source": [
    "# Using the glob library for batch file processing is helpful \n",
    "# because it's easier to quickly edit code after renaming files\n",
    "# you can also easily select csvs that are in specific folders\n",
    "\n",
    "data_files = glob.glob('./*.csv')\n",
    "print('Number of files is', len(data_files))"
   ]
  },
  {
   "cell_type": "code",
   "execution_count": 3,
   "metadata": {},
   "outputs": [],
   "source": [
    "# It can be nice to declare all global variables in one place \n",
    "# because you don't have to search your code when changing parameters.\n",
    "\n",
    "pixelNumThreshold = 500\n",
    "binwidth = 50\n",
    "outPath_fig = './figures/'"
   ]
  },
  {
   "cell_type": "code",
   "execution_count": 4,
   "metadata": {
    "scrolled": false
   },
   "outputs": [],
   "source": [
    "def smooth(Pixels, output_ints=10, std=3):\n",
    "    win_gauss = signal.gaussian(output_ints, std)\n",
    "    smooth_Pixels = signal.convolve(Pixels, win_gauss, mode='same', \n",
    "                                    method = 'direct') / win_gauss.sum()\n",
    "    return(smooth_Pixels)\n",
    "\n",
    "def process_data(data_files, verbose=True):\n",
    "    for filename in data_files: \n",
    "        df = pd.read_csv(filename)\n",
    "\n",
    "        # vectorized implementation on NumPy arrays (.values loads data as np)\n",
    "        df['smoothed_pixelcount'] = smooth(df['NumPixel'].values)\n",
    "        df['motion'] = df['smoothed_pixelcount'].values > pixelNumThreshold\n",
    "\n",
    "        # remove all frames where there is no motion\n",
    "        df = df[df['motion'] == True]\n",
    "\n",
    "        # now I'm separating this into a list of lists of consecutive timestamps\n",
    "        mothIN_timestamps = [list(x) for x in mit.consecutive_groups(df.index)]\n",
    "\n",
    "        # The data should now look like this. Each int is a mothIN frame number.\n",
    "        # [[1, 2, 3],  [20, 21, 22, 23, 24],  [1000, 1001]] ...etc\n",
    "        # now I can do simple list comprehension to get the length of each mothIN event\n",
    "        mothIN_lengths = [len(x) for x in mothIN_timestamps]\n",
    "        \n",
    "        # now your data should look like this. \n",
    "        # Each number is the number of frames in that mothIN event. \n",
    "        # [3, 5, 2]\n",
    "\n",
    "        if len(mothIN_lengths) == 0:\n",
    "            print(filename + \" has no moth movement\")\n",
    "        else: \n",
    "            fig, ax = plt.subplots(1,1, figsize = (10,6))\n",
    "            to_plot = mothIN_lengths\n",
    "            plt.hist(to_plot, bins=range(min(to_plot), \n",
    "                                max(to_plot) + binwidth, binwidth))\n",
    "            plt.xlabel(\"Total frames moth in view\", fontsize = 20)\n",
    "            plt.ylabel(\"Occurance of each bin\", fontsize = 20)\n",
    "\n",
    "            # get just the name out of the filename\n",
    "            name = filename.split('/')[-1][:-4]\n",
    "            plt.savefig(outPath_fig + name + '_histogram.png')\n",
    "\n",
    "            # Matplotlib has a known memory leak when making multiple plots\n",
    "            # Explicitly clear and close plots when you're done with them\n",
    "            plt.clf()\n",
    "            plt.close('all')\n",
    "\n",
    "        if verbose == True:\n",
    "            # if you're analyzing 10k files you don't want to print each time\n",
    "            print('Done with ' + filename)"
   ]
  },
  {
   "cell_type": "code",
   "execution_count": 5,
   "metadata": {},
   "outputs": [
    {
     "name": "stdout",
     "output_type": "stream",
     "text": [
      "5.63 s ± 265 ms per loop (mean ± std. dev. of 7 runs, 1 loop each)\n"
     ]
    }
   ],
   "source": [
    "%%timeit\n",
    "process_data(data_files, verbose=False)"
   ]
  },
  {
   "cell_type": "code",
   "execution_count": 6,
   "metadata": {},
   "outputs": [
    {
     "name": "stdout",
     "output_type": "stream",
     "text": [
      "Done with ./c-1_m4.csv\n",
      "Done with ./c-2_m4.csv\n"
     ]
    }
   ],
   "source": [
    "# Run function without verbose argument to print progress statements\n",
    "process_data(data_files)"
   ]
  },
  {
   "cell_type": "code",
   "execution_count": null,
   "metadata": {},
   "outputs": [],
   "source": []
  }
 ],
 "metadata": {
  "kernelspec": {
   "display_name": "Python 3",
   "language": "python",
   "name": "python3"
  },
  "language_info": {
   "codemirror_mode": {
    "name": "ipython",
    "version": 3
   },
   "file_extension": ".py",
   "mimetype": "text/x-python",
   "name": "python",
   "nbconvert_exporter": "python",
   "pygments_lexer": "ipython3",
   "version": "3.6.4"
  }
 },
 "nbformat": 4,
 "nbformat_minor": 2
}
