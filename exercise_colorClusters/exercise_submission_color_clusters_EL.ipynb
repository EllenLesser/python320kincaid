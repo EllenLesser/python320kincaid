{
 "cells": [
  {
   "cell_type": "code",
   "execution_count": 1,
   "metadata": {},
   "outputs": [
    {
     "ename": "ModuleNotFoundError",
     "evalue": "No module named 'cv2'",
     "output_type": "error",
     "traceback": [
      "\u001b[1;31m---------------------------------------------------------------------------\u001b[0m",
      "\u001b[1;31mModuleNotFoundError\u001b[0m                       Traceback (most recent call last)",
      "\u001b[1;32m<ipython-input-1-15a980eea15f>\u001b[0m in \u001b[0;36m<module>\u001b[1;34m\u001b[0m\n\u001b[0;32m      1\u001b[0m \u001b[1;32mimport\u001b[0m \u001b[0mnumpy\u001b[0m \u001b[1;32mas\u001b[0m \u001b[0mnp\u001b[0m\u001b[1;33m\u001b[0m\u001b[1;33m\u001b[0m\u001b[0m\n\u001b[1;32m----> 2\u001b[1;33m \u001b[1;32mimport\u001b[0m \u001b[0mcv2\u001b[0m\u001b[1;33m\u001b[0m\u001b[1;33m\u001b[0m\u001b[0m\n\u001b[0m\u001b[0;32m      3\u001b[0m \u001b[1;32mimport\u001b[0m \u001b[0mmatplotlib\u001b[0m\u001b[1;33m.\u001b[0m\u001b[0mpyplot\u001b[0m \u001b[1;32mas\u001b[0m \u001b[0mplt\u001b[0m\u001b[1;33m\u001b[0m\u001b[1;33m\u001b[0m\u001b[0m\n\u001b[0;32m      4\u001b[0m \u001b[1;32mimport\u001b[0m \u001b[0mmatplotlib\u001b[0m\u001b[1;33m.\u001b[0m\u001b[0mpatches\u001b[0m \u001b[1;32mas\u001b[0m \u001b[0mpch\u001b[0m\u001b[1;33m\u001b[0m\u001b[1;33m\u001b[0m\u001b[0m\n\u001b[0;32m      5\u001b[0m \u001b[1;33m\u001b[0m\u001b[0m\n",
      "\u001b[1;31mModuleNotFoundError\u001b[0m: No module named 'cv2'"
     ]
    }
   ],
   "source": [
    "import numpy as np\n",
    "import cv2\n",
    "import matplotlib.pyplot as plt\n",
    "import matplotlib.patches as pch\n",
    "\n",
    "%matplotlib inline"
   ]
  },
  {
   "cell_type": "code",
   "execution_count": null,
   "metadata": {},
   "outputs": [],
   "source": [
    "def kmeans(fname, k=3):\n",
    "    ''' k-means clustering in OpenCV. Returns values in RGB format '''\n",
    "    img = cv2.imread(fname)\n",
    "    z = img.reshape((-1,3))\n",
    "    z = np.float32(z) # convert to np.float32\n",
    "    criteria = (cv2.TERM_CRITERIA_EPS + cv2.TERM_CRITERIA_MAX_ITER, 10, 1.0)\n",
    "    ret, label, center = cv2.kmeans(z,k,None,criteria,10,cv2.KMEANS_RANDOM_CENTERS)\n",
    "    center = np.uint8(center) # back into uint8\n",
    "    center_rgb = [bgr_to_rgb(x) for x in center]\n",
    "    return(center_rgb)\n",
    "\n",
    "def bgr_to_rgb(val):\n",
    "    ''' Convert a list of BGR color tuples to RGB tuples '''\n",
    "    b, g, r = val\n",
    "    return((r, g, b))\n",
    "\n",
    "def get_contrast_color(color):\n",
    "    ''' Returns white or black, whichever is most different from given RGB color.\n",
    "        For easy plotting of legible text on colored backgrounds.'''\n",
    "    if np.mean(color) < 255/2: \n",
    "        return('#ffffff')\n",
    "    else: \n",
    "        return('#000000')\n",
    "    \n",
    "def plot_clusters(fname, centers_rgb, spacer=1.5):\n",
    "    ''' Show results of cluster analysis. \n",
    "        spacer variable is space allocated to results on right, \n",
    "        as a fraction of image width.'''\n",
    "    fig = plt.figure(figsize=(6, 4))\n",
    "\n",
    "    img = cv2.imread(fname)\n",
    "    width, height = len(img[0]), len(img)\n",
    "\n",
    "    ax1 = fig.add_subplot(111)\n",
    "    ax1.imshow(cv2.cvtColor(img, cv2.COLOR_BGR2RGB), origin='upper')\n",
    "\n",
    "    for n in range(0, len(centers_rgb)):\n",
    "        color = [x/255 for x in centers_rgb[n]] \n",
    "        # matplotlib encodes RGB vals as 0~1 instead of 0~255\n",
    "        box_count = len(centers_rgb)\n",
    "        y = n * height/box_count\n",
    "        ax1.add_patch(pch.Rectangle((width, y), width*spacer, height/box_count, \n",
    "                                    fc=color, ec='none'))\n",
    "        textcolor = get_contrast_color(centers_rgb[n])\n",
    "        ax1.text(width+(width*(spacer-1)/2), y+height/box_count/2, centers_rgb[n],\n",
    "                ha='center', va='center', color=textcolor)\n",
    "\n",
    "    ax1.set_xlim(0, width*spacer)\n",
    "    ax1.axis('off')\n",
    "    plt.show()\n",
    "    return(fig)"
   ]
  },
  {
   "cell_type": "code",
   "execution_count": null,
   "metadata": {},
   "outputs": [],
   "source": [
    "fnames = ['./data/cardinal.jpg', './data/mountain.jpg']\n",
    "\n",
    "for fname in fnames: \n",
    "    centers = kmeans(fname, k=3)\n",
    "    fig = plot_clusters(fname, centers)\n",
    "    plt.close('all')"
   ]
  },
  {
   "cell_type": "code",
   "execution_count": null,
   "metadata": {},
   "outputs": [],
   "source": [
    "# Also works for more than 3 clusters! \n",
    "\n",
    "for fname in fnames: \n",
    "    centers = kmeans(fname, k=8)\n",
    "    fig = plot_clusters(fname, centers)\n",
    "    plt.close('all')"
   ]
  },
  {
   "cell_type": "code",
   "execution_count": null,
   "metadata": {},
   "outputs": [],
   "source": []
  }
 ],
 "metadata": {
  "kernelspec": {
   "display_name": "Python 3",
   "language": "python",
   "name": "python3"
  },
  "language_info": {
   "codemirror_mode": {
    "name": "ipython",
    "version": 3
   },
   "file_extension": ".py",
   "mimetype": "text/x-python",
   "name": "python",
   "nbconvert_exporter": "python",
   "pygments_lexer": "ipython3",
   "version": "3.7.1"
  }
 },
 "nbformat": 4,
 "nbformat_minor": 2
}
